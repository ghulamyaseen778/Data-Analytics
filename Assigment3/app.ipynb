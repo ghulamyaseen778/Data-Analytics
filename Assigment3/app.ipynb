{
 "cells": [
  {
   "cell_type": "code",
   "execution_count": null,
   "metadata": {},
   "outputs": [
    {
     "name": "stdout",
     "output_type": "stream",
     "text": [
      "Congrats you have eligible for loan.\n"
     ]
    }
   ],
   "source": [
    "# Q1. Write program to check a person’s eligibility for a loan based on age, credit score, and income. This time, the\n",
    "# eligibility criteria will be:\n",
    "# The person must be 18 years or older. The person must have a credit score of 650 or higher. The person must have\n",
    "# an annual income of at least 30000 dollars If the person has a credit score of 700 or higher, they may still be eligible\n",
    "# with an income of 25000 dollars or more.\n",
    "\n",
    "age = int(input(\"Enter Your Age: \"))\n",
    "credits = int(input(\"Enter Your Credits: \"))\n",
    "annualIncome= int(input(\"Enter Your Annual Income: \"))\n",
    "\n",
    "if age>=18:\n",
    "    if credits>=650 and annualIncome>=30000:\n",
    "        print(\"Congrats you have eligible for loan.\")\n",
    "    elif credits>=700 and annualIncome>=25000:\n",
    "            print(\"Congrats you have eligible for loan.\")\n",
    "    else:\n",
    "        print(\"You have didn't eligible for loan.\")\n",
    "else:\n",
    "        print(\"You have didn't eligible for loan.\")"
   ]
  },
  {
   "cell_type": "code",
   "execution_count": 12,
   "metadata": {},
   "outputs": [
    {
     "name": "stdout",
     "output_type": "stream",
     "text": [
      "You are underage!\n"
     ]
    }
   ],
   "source": [
    "# Q2. Write a Python program that checks if a person is an adult (age ≥ 18).\n",
    "\n",
    "# Take the age as input.\n",
    "# If the person is underage (age &lt; 18), show message: \"You are underage\" and don&#39;t ask for experience.\n",
    "\n",
    "# If the person is an adult, take years of experience as input and print:\n",
    "# \"You have a lot of experience.\" (10+ years)\n",
    "# \"You have moderate experience.\" (5-9 years)\n",
    "# \"You are relatively new.\" (2-4 years)\n",
    "# \"You are just starting out.\" (less than 2 years)\n",
    "\n",
    "age = int(input(\"Enter your age: \"))\n",
    "experience = 0\n",
    "\n",
    "if age >= 18:\n",
    "    experience = int(input(\"Enter your experience: \"))\n",
    "    if experience>=10:\n",
    "        print(\"You have a lot of experience.\")\n",
    "    elif experience >=5 and experience <=9:\n",
    "        print(\"You have moderate experience.\")\n",
    "    elif experience >=2 and experience <=4:\n",
    "        print(\"You are relatively new.\")\n",
    "    elif experience < 2:\n",
    "        print(\"You are just starting out.\")\n",
    "    else:\n",
    "        print(\"Enter correct experience\")\n",
    "else:\n",
    "    print(\"You are underage!\")\n",
    "\n"
   ]
  },
  {
   "cell_type": "code",
   "execution_count": 52,
   "metadata": {},
   "outputs": [
    {
     "name": "stdout",
     "output_type": "stream",
     "text": [
      "memory address:  140733033073368 of int\n",
      "memory address:  2798705630064 of float\n",
      "memory address:  2798644275568 of str\n",
      "memory address:  2798738705216 of list\n",
      "memory address:  2798733334544 of tuple\n",
      "memory address:  2798738441600 of set\n",
      "memory address:  2798738933824 of dict\n",
      "float is taking less memory is only 24\n"
     ]
    }
   ],
   "source": [
    "# Q3. Write a program to explore below variables\n",
    "\n",
    "# a) Print their memory address (to check if python assigns same address of different variables having same element)\n",
    "# b) Find memory size and append them in a list, use this list to find data type having least memory size\n",
    "# c) Print final name of data type which has lowest memory\n",
    "# Result will help a programmer to decide which variable is storing less memory and variable locations\n",
    "import sys\n",
    "\n",
    "int_variable = 10\n",
    "float_variable = 10.0\n",
    "str_variable = \"10\"\n",
    "list_variable = [10]\n",
    "tuple_variable = (10,)\n",
    "set_variable = {10}\n",
    "dict_variable = {\"key\": 10}\n",
    "\n",
    "list_of_variables = [int_variable,float_variable,str_variable,list_variable,tuple_variable,set_variable,dict_variable]\n",
    "list_of_sizes = []\n",
    "for memoryAddress in list_of_variables:\n",
    "    print(\"memory address: \", id(memoryAddress), \"of\", type(memoryAddress).__name__)\n",
    "\n",
    "for sizesOfVariables in list_of_variables:\n",
    "    list_of_sizes.append((type(sizesOfVariables).__name__,sys.getsizeof(sizesOfVariables)))\n",
    "\n",
    "list_of_sorted_sizes = sorted(list_of_sizes)\n",
    "print(list_of_sorted_sizes[1][0],\"is taking less memory is only\",list_of_sorted_sizes[1][1])\n"
   ]
  },
  {
   "cell_type": "code",
   "execution_count": null,
   "metadata": {},
   "outputs": [
    {
     "name": "stdout",
     "output_type": "stream",
     "text": [
      "False\n",
      "True\n",
      "Email Format Is Valid!\n"
     ]
    }
   ],
   "source": [
    "# Q4. Write a Python program that asks the user to enter an email address. The program should check if the email\n",
    "# contains the characters @ and \".\"; (ignoring case). If either character is present, print \"Email format is valid.\";\n",
    "# Otherwise, print \"Invalid email format.\";\n",
    "\n",
    "email = input(\"Enter Your Email: \")\n",
    "\n",
    "if email.find(\".\") != -1 and email.find(\"@\") != -1 and (email.find(\"@\")<email.find(\".\")) :\n",
    "    print(\"Email Format Is Valid!\")\n",
    "else:\n",
    "    print(\"Email Format is Not Valid!\")"
   ]
  },
  {
   "cell_type": "code",
   "execution_count": 107,
   "metadata": {},
   "outputs": [
    {
     "name": "stdout",
     "output_type": "stream",
     "text": [
      "('int', 'float', 'str', 'list', 'tuple')\n"
     ]
    }
   ],
   "source": [
    "# Q5. Write a python program to know data type of each element stored in a tuple, append the data types in a list.\n",
    "# Show final output in a list as data types of tuple elements\n",
    "# x = (11,22.333,'apple',[1,2,3],('a','b'))\n",
    "x = (11,22.333,'apple',[1,2,3],('a','b'))\n",
    "list_of_data_types = []\n",
    "for i in x:\n",
    "    list_of_data_types.append(type(i).__name__)\n",
    "\n",
    "print(tuple(list_of_data_types))"
   ]
  },
  {
   "cell_type": "code",
   "execution_count": 120,
   "metadata": {},
   "outputs": [
    {
     "name": "stdout",
     "output_type": "stream",
     "text": [
      "User alice is admin\n"
     ]
    }
   ],
   "source": [
    "# Q6. Write a Python program that:\n",
    "# Checks if a given username exists in a list of active users.\n",
    "# Verifies if the user is the admin using identity operators.\n",
    "# Hints:\n",
    "# Use a list of tuples where each tuple contains a username and role\n",
    "# [(\"alice\", \"admin\"),\n",
    "# (\"bob\", \"user\"),\n",
    "# (\"charlie\", \"moderator\")]\n",
    "# Use the in operator to check if the username exists in the list.\n",
    "# Use the is operator to check if the user is the admin (admin is a specific reference, e.g., (\"alice\", \"admin\")).\n",
    "username = input(\"Enter your user name: \")\n",
    "users = [(\"alice\", \"admin\"),(\"bob\", \"user\"), (\"charlie\", \"moderator\")]\n",
    "selected_user = ()\n",
    "for ind,val in enumerate(users):\n",
    "    if users[ind][0] in username:\n",
    "        selected_user = users[ind]\n",
    "        if users[ind][1] == \"admin\":\n",
    "            print(\"User\",username,\"is admin\")\n",
    "        else:\n",
    "            print(\"User\",username,\"does not admin\")\n",
    "\n",
    "if selected_user==():\n",
    "    print(\"User\",username,\"is doesn't exsit\")\n",
    "\n",
    "        \n"
   ]
  },
  {
   "cell_type": "code",
   "execution_count": 130,
   "metadata": {},
   "outputs": [
    {
     "name": "stdout",
     "output_type": "stream",
     "text": [
      "Person1 and Person2 are not related.\n",
      "Person1 and Person3 are not related.\n"
     ]
    }
   ],
   "source": [
    "# Q7. person1 has same family as of person2, write a program to print relation between person1 and person2, if their\n",
    "# data is ['father name','mother name','district','family number'] same (Print relation 'Siblings') also check person1\n",
    "# data with person3 which is cousin of person1 (Print relation 'Cousin')\n",
    "# Hint:\n",
    "# Use identity operator\n",
    "\n",
    "person1 = ['John', 'Jane', 'sindh', '5']\n",
    "person2 = ['John', 'Jane', 'sindh', '5']\n",
    "person3 = ['Michael', 'Sarah', 'punjab', '6']\n",
    "\n",
    "if person1 is person2:\n",
    "    print(\"Person1 and Person2 are Siblings.\")\n",
    "else:\n",
    "    print(\"Person1 and Person2 are not related.\")\n",
    "\n",
    "if person1[3] is person3[3] and person1[3] is not person3[3]:\n",
    "    print(\"Person1 and Person3 are Cousins.\")\n",
    "else:\n",
    "    print(\"Person1 and Person3 are not related.\")"
   ]
  },
  {
   "cell_type": "code",
   "execution_count": 135,
   "metadata": {},
   "outputs": [
    {
     "name": "stdout",
     "output_type": "stream",
     "text": [
      "('book1', 'me', '2002', '100')\n"
     ]
    }
   ],
   "source": [
    "# Q8. Write a Python program to store and display a book's title, author, year of publication, and price using a tuple.\n",
    "\n",
    "# Instructions:\n",
    "# Create a tuple to store the book details.\n",
    "# Ask the user for the book's title, author, year, and price.\n",
    "# Display the stored book information.\n",
    "book_title= input(\"Enter Book Title: \")\n",
    "book_author= input(\"Enter Book Author: \")\n",
    "book_year= input(\"Enter Book Year: \")\n",
    "book_price= input(\"Enter Book Price: \")\n",
    "\n",
    "tuples_of_books=(book_title,book_author,book_year,book_price)\n",
    "print(tuples_of_books)\n",
    "\n",
    "\n"
   ]
  },
  {
   "cell_type": "code",
   "execution_count": 136,
   "metadata": {},
   "outputs": [
    {
     "name": "stdout",
     "output_type": "stream",
     "text": [
      "Offerd Subject : ['english', 'computer', 'pyshics']\n",
      "Yes english is available\n"
     ]
    }
   ],
   "source": [
    "# Q9. Write a program to check if a user’s chosen subject is available in the list of offered subjects.\n",
    "# Instructions:\n",
    "# Given a list of subjects, ask the user to input a subject.\n",
    "# Display whether the subject is available or not.\n",
    "\n",
    "offerdSubject = [\"english\",\"computer\",\"pyshics\"]\n",
    "print(\"Offerd Subject :\",offerdSubject)\n",
    "subjects = input(\"Enter Your Subject\")\n",
    "if subjects in offerdSubject:\n",
    "    print(\"Yes\",subjects,\"is available\")\n",
    "else:\n",
    "    print(\"This course is not available\")"
   ]
  },
  {
   "cell_type": "code",
   "execution_count": null,
   "metadata": {},
   "outputs": [
    {
     "name": "stdout",
     "output_type": "stream",
     "text": [
      "first occurrence index is 0\n",
      "user number count is  3\n"
     ]
    }
   ],
   "source": [
    "# Q10. Write a Python program that performs the following tasks using tuple methods\n",
    "# Create a tuple with multiple integer values, including duplicates.\n",
    "# Prompt the user to input a number and find the index of its first occurrence in the tuple.\n",
    "# Ask the user for another number and count how many times it appears in the tuple.\n",
    "# Display appropriate messages based on the results\n",
    "\n",
    "numbers = (10, 20, 30, 10, 40, 50, 30, 10)\n",
    "user_number = int(input(\"Enter a number to find its first occurrence: \"))\n",
    "\n",
    "if user_number in numbers:\n",
    "    print(\"first occurrence index is\",numbers.index(user_number))\n",
    "    print(\"user number count is \",numbers.count(user_number))\n",
    "else:\n",
    "    print(\"your number is not available!\")"
   ]
  },
  {
   "cell_type": "code",
   "execution_count": null,
   "metadata": {},
   "outputs": [
    {
     "name": "stdout",
     "output_type": "stream",
     "text": [
      "Your Currect temprature is not!\n"
     ]
    }
   ],
   "source": [
    "# Question for Hard working learners (Not Mandatory)\n",
    "# Write a Python program that asks the user to enter the current temperature in Celsius and checks whether it&#39;s\n",
    "# freezing, normal, or hot based on predefined temperature values.&quot;\n",
    "\n",
    "# Assignment Requirements:\n",
    "# Input: The user will be asked to enter the current temperature in Celsius.\n",
    "# Predefined values:\n",
    "# Freezing: -5\n",
    "# Normal: 25\n",
    "# Hot: 40\n",
    "\n",
    "Freezing= -5\n",
    "Normal= 25\n",
    "Hot= 40\n",
    "\n",
    "currentTemp = int(input(\"Enter Your Current Tempreature:\"))\n",
    "\n",
    "if currentTemp >= -5 and currentTemp <=25:\n",
    "    print(\"Your Currect temprature is freezing!\")\n",
    "elif currentTemp >= 25 and currentTemp<=40:\n",
    "    print(\"Your Currect temprature is normal!\")\n",
    "elif currentTemp >= 40:\n",
    "    print(\"Your Currect temprature is hot!\")\n",
    "\n",
    "\n"
   ]
  },
  {
   "cell_type": "code",
   "execution_count": null,
   "metadata": {},
   "outputs": [],
   "source": []
  },
  {
   "cell_type": "code",
   "execution_count": null,
   "metadata": {},
   "outputs": [],
   "source": []
  }
 ],
 "metadata": {
  "kernelspec": {
   "display_name": "3.12.0",
   "language": "python",
   "name": "python3"
  },
  "language_info": {
   "codemirror_mode": {
    "name": "ipython",
    "version": 3
   },
   "file_extension": ".py",
   "mimetype": "text/x-python",
   "name": "python",
   "nbconvert_exporter": "python",
   "pygments_lexer": "ipython3",
   "version": "3.12.0"
  }
 },
 "nbformat": 4,
 "nbformat_minor": 2
}
