{
 "cells": [
  {
   "cell_type": "markdown",
   "id": "170d9f80-0bdf-4d32-9736-93e86857cc87",
   "metadata": {},
   "source": [
    "1. Write a Python function called add_numbers that takes two numbers as arguments and returns their sum. Then, test the function by calling it with two numbers of your choice."
   ]
  },
  {
   "cell_type": "code",
   "execution_count": 2,
   "id": "20e6b7a7",
   "metadata": {},
   "outputs": [
    {
     "name": "stdout",
     "output_type": "stream",
     "text": [
      "6\n"
     ]
    }
   ],
   "source": [
    "def add_numbers(a,b):\n",
    "    return a+b\n",
    "print(add_numbers(2,4))"
   ]
  },
  {
   "cell_type": "markdown",
   "id": "7f9ede6d-db1d-4d2c-ac3c-c4e1a3653c30",
   "metadata": {},
   "source": [
    "2. Write a Python function count_vowels that accepts a string and returns the number of vowels (a, e, i, o, u) in that string.\n",
    "- Example: 'Orange'\n",
    "- Output: 3 vowels\n"
   ]
  },
  {
   "cell_type": "code",
   "execution_count": 7,
   "id": "d79494bb",
   "metadata": {},
   "outputs": [
    {
     "name": "stdout",
     "output_type": "stream",
     "text": [
      "Output: 3 vowels\n"
     ]
    }
   ],
   "source": [
    "vowels = {\"a\", \"e\", \"i\", \"o\", \"u\"}\n",
    "def count_vowels(word):\n",
    "    count = 0\n",
    "    for letter in word.lower():\n",
    "        if letter in vowels:\n",
    "            count = count + 1\n",
    "    return f\"Output: {count} vowels\"\n",
    "\n",
    "print(count_vowels(\"orange\"))\n"
   ]
  },
  {
   "cell_type": "markdown",
   "id": "09ed52aa-b88e-4f30-a017-652d8de535cc",
   "metadata": {},
   "source": [
    "3. Create a Python function called currency_converter() that takes two arguments:\n",
    "\n",
    "- amount: The amount of money to be converted (in USD).\n",
    "- exchange_rate (default is 280): The conversion rate from USD to another currency (e.g., PKR). You can assume the default rate is 1 USD = 280 PKR.\n",
    "\n",
    "The function should return a message showing how much the given amount is worth in the target currency (PKR)."
   ]
  },
  {
   "cell_type": "code",
   "execution_count": 13,
   "id": "f00c5a2f",
   "metadata": {},
   "outputs": [
    {
     "name": "stdout",
     "output_type": "stream",
     "text": [
      "10 USD is equal to 2800 PKR.\n",
      "10 USD is equal to 3000 PKR.\n"
     ]
    }
   ],
   "source": [
    "\n",
    "def currency_converter(amount, exchange_rate=280):\n",
    "    converted_amount = amount * exchange_rate\n",
    "    return f\"{amount} USD is equal to {converted_amount} PKR.\"\n",
    "\n",
    "print(currency_converter(10))\n",
    "print(currency_converter(10, 300)) "
   ]
  },
  {
   "cell_type": "markdown",
   "id": "80ee5bc1-0c50-4341-9c04-12c9706e3e2d",
   "metadata": {},
   "source": [
    "4. Write a Python function display_student_info that accepts the following details about a student:\n",
    "\n",
    "- name (Keyword argument): The name of the student.\n",
    "- age (Keyword argument): The age of the student.\n",
    "- grade (Keyword argument): The grade the student is in.\n",
    "- school (Keyword argument): The name of the school the student attends."
   ]
  },
  {
   "cell_type": "code",
   "execution_count": 18,
   "id": "73c292e5",
   "metadata": {},
   "outputs": [
    {
     "name": "stdout",
     "output_type": "stream",
     "text": [
      "Student Name is yaseen \n",
      "Student age is 18 \n",
      "Student grade is A \n",
      "Student school is Hello\n"
     ]
    }
   ],
   "source": [
    "def display_student_info(**info):\n",
    "    \n",
    "    print(f\"Student Name is {info[\"name\"]} \\nStudent age is {info[\"age\"]} \\nStudent grade is {info[\"grade\"]} \\nStudent school is {info[\"school\"]}\")\n",
    "\n",
    "display_student_info(name=\"yaseen\",age=\"18\",grade=\"A\",school=\"Hello\")"
   ]
  },
  {
   "cell_type": "markdown",
   "id": "0fe94f0f-cf3b-4122-8c18-204e74890214",
   "metadata": {},
   "source": [
    "5. Write a Python function calculate_price that accepts two positional arguments:\n",
    "\n",
    "- price: The price of a single item.\n",
    "- quantity: The number of items bought.\n",
    "- The function should return the total price by multiplying price and quantity."
   ]
  },
  {
   "cell_type": "code",
   "execution_count": 19,
   "id": "60003739",
   "metadata": {},
   "outputs": [
    {
     "name": "stdout",
     "output_type": "stream",
     "text": [
      "150\n",
      "500\n"
     ]
    }
   ],
   "source": [
    "def calculate_price(price, quantity):\n",
    "    total_price = price * quantity\n",
    "    return total_price\n",
    "\n",
    "print(calculate_price(50, 3))\n",
    "print(calculate_price(100, 5))"
   ]
  },
  {
   "cell_type": "markdown",
   "id": "f296207b-8c2c-4fed-a439-55c62a4fad48",
   "metadata": {},
   "source": [
    "6. Write a Python function display_prices that takes a product name and an arbitrary number of keyword arguments representing product prices. The function should display each product and its price.\n",
    "\n",
    "- Product: Laptop\n",
    "- Amazon: $800\n",
    "\n",
    "- eBay: $750\n",
    "  \n",
    "- Walmart: $780\n"
   ]
  },
  {
   "cell_type": "code",
   "execution_count": 21,
   "id": "666d95f3",
   "metadata": {},
   "outputs": [
    {
     "name": "stdout",
     "output_type": "stream",
     "text": [
      "Product: Laptop\n",
      "Amazon: $800\n",
      "eBay: $750\n",
      "Walmart: $780\n"
     ]
    }
   ],
   "source": [
    "def display_prices(product_name, **prices):\n",
    "    print(f\"Product: {product_name}\")\n",
    "    for store, price in prices.items():\n",
    "        print(f\"{store}: ${price}\")\n",
    "\n",
    "display_prices(\"Laptop\", Amazon=800, eBay=750, Walmart=780)"
   ]
  },
  {
   "cell_type": "markdown",
   "id": "5f1c1d64-058b-4ace-ab15-ac1debdce1a0",
   "metadata": {},
   "source": [
    "7. Write a Python function find_max that takes any number of numerical arguments and returns the maximum number."
   ]
  },
  {
   "cell_type": "code",
   "execution_count": 22,
   "id": "be705f24",
   "metadata": {},
   "outputs": [
    {
     "name": "stdout",
     "output_type": "stream",
     "text": [
      "40\n"
     ]
    }
   ],
   "source": [
    "def find_max(*numbers):\n",
    "    return max(numbers)\n",
    "\n",
    "print(find_max(15, 22, 36, 40)) "
   ]
  },
  {
   "cell_type": "markdown",
   "id": "133f4fd5-0f8d-4595-88c2-0cd7371c775b",
   "metadata": {},
   "source": [
    "8. Write a Python function display_info that takes:\n",
    "\n",
    "- Positional arguments for the name and age of a person.\n",
    "- Keyword arguments for other personal details like address, phone number, and email.\n",
    "\n",
    "Example Output:\n",
    "\n",
    "- Name: Alice\n",
    "- Age: 30\n",
    "- Other Details:\n",
    "    - address: 123 Main St\n",
    "    - phone: 123-456-7890\n",
    "    - email: alice@example.com\n"
   ]
  },
  {
   "cell_type": "code",
   "execution_count": 23,
   "id": "feb5b2a4",
   "metadata": {},
   "outputs": [
    {
     "name": "stdout",
     "output_type": "stream",
     "text": [
      "Name: Alice\n",
      "Age: 30\n",
      "Other Details:\n",
      "address: 123 Main St\n",
      "phone: 123-456-7890\n",
      "email: alice@example.com\n"
     ]
    }
   ],
   "source": [
    "def display_info(name, age, **details):\n",
    "    print(f\"Name: {name}\")\n",
    "    print(f\"Age: {age}\")\n",
    "    if details:\n",
    "        print(\"Other Details:\")\n",
    "        for key, value in details.items():\n",
    "            print(f\"{key}: {value}\")\n",
    "\n",
    "display_info(\n",
    "    \"Alice\", 30, address=\"123 Main St\", phone=\"123-456-7890\", email=\"alice@example.com\"\n",
    ")"
   ]
  },
  {
   "cell_type": "markdown",
   "id": "ba32f7dd-8038-4e6d-a785-0244a500313c",
   "metadata": {},
   "source": [
    "9. Write a Python function calculate_rectangle that accepts the length and width of a rectangle as arguments. Inside this function, create two nested functions:\n",
    "\n",
    "- calculate_area: This function should calculate the area of the rectangle.\n",
    "- calculate_perimeter: This function should calculate the perimeter of the rectangle.\n",
    "- The main function should return both the area and the perimeter of the rectangle."
   ]
  },
  {
   "cell_type": "code",
   "execution_count": 26,
   "id": "5489f302",
   "metadata": {},
   "outputs": [
    {
     "name": "stdout",
     "output_type": "stream",
     "text": [
      "Area: 15\n",
      "Perimeter: 16\n"
     ]
    }
   ],
   "source": [
    "def calculate_rectangle(length, width):\n",
    "    def calculate_area():\n",
    "        return length * width\n",
    "    def calculate_perimeter():\n",
    "        return 2 * (length + width)\n",
    "\n",
    "    return calculate_area(), calculate_perimeter()\n",
    "area, perimeter = calculate_rectangle(5, 3)\n",
    "print(f\"Area: {area}\")\n",
    "print(f\"Perimeter: {perimeter}\")\n"
   ]
  },
  {
   "cell_type": "markdown",
   "id": "ff60a2fd-df19-4d11-ae27-27443c000e5a",
   "metadata": {},
   "source": [
    "Q 10.\n",
    "\n",
    "products = [\n",
    "    {\"name\": \"Laptop\", \"price\": 1200, \"in_stock\": True, \"discount\": 0.1},\n",
    "    {\"name\": \"Smartphone\", \"price\": 800, \"in_stock\": False, \"discount\": 0.05},\n",
    "    {\"name\": \"Headphones\", \"price\": 150, \"in_stock\": True, \"discount\": 0.2},\n",
    "    {\"name\": \"Smartwatch\", \"price\": 300, \"in_stock\": True, \"discount\": 0},\n",
    "    {\"name\": \"Keyboard\", \"price\": 100, \"in_stock\": True, \"discount\": 0.15}\n",
    "]\n",
    "\n",
    "- Get names of in-stock products:\n",
    "\n",
    "  *Use list comprehension to generate a list of names for the products that are in stock.\n",
    "                                            \n",
    "- Calculate final prices for in-stock products after discount:\n",
    "\n",
    "    *For products that have a discount, calculate the final price by applying the discount.\n",
    "\n",
    "  \n",
    "    *For products with no discount, keep the original price.\n",
    "                                            \n",
    "- Generate a list of tuples with the product name and its final price.\n",
    "\n",
    "Example Output:\n",
    "\n",
    "- In-stock product names: ['Laptop', 'Headphones', 'Smartwatch', 'Keyboard']\n",
    "- Discounted prices: [('Laptop', 1080.0), ('Headphones', 120.0), ('Smartwatch', 300), ('Keyboard', 85.0)]\n"
   ]
  },
  {
   "cell_type": "code",
   "execution_count": 47,
   "id": "258c9536-f80f-479a-a01d-92936f9d3a3f",
   "metadata": {},
   "outputs": [
    {
     "name": "stdout",
     "output_type": "stream",
     "text": [
      "In-stock product names: ['Laptop', 'Headphones', 'Smartwatch', 'Keyboard']\n",
      "Discounted prices: [('Laptop', 1080.0), ('Headphones', 120.0), ('Smartwatch', 300), ('Keyboard', 85.0)]\n"
     ]
    }
   ],
   "source": [
    "products = [\n",
    "    {\"name\": \"Laptop\", \"price\": 1200, \"in_stock\": True, \"discount\": 0.1},\n",
    "    {\"name\": \"Smartphone\", \"price\": 800, \"in_stock\": False, \"discount\": 0.05},\n",
    "    {\"name\": \"Headphones\", \"price\": 150, \"in_stock\": True, \"discount\": 0.2},\n",
    "    {\"name\": \"Smartwatch\", \"price\": 300, \"in_stock\": True, \"discount\": 0},\n",
    "    {\"name\": \"Keyboard\", \"price\": 100, \"in_stock\": True, \"discount\": 0.15}\n",
    "]\n",
    "\n",
    "def find_in_stock(products,rtn=\"names\"):\n",
    "    list_of_instock =[]\n",
    "    for product in products:\n",
    "         if product[\"in_stock\"]:\n",
    "              list_of_instock.append(product)\n",
    "    if rtn ==\"names\":\n",
    "        return [prod[\"name\"] for prod in list_of_instock ]\n",
    "    else:\n",
    "         return list_of_instock\n",
    "    \n",
    "print(f\"In-stock product names: {find_in_stock(products)}\")\n",
    "def apply_discount(products):\n",
    "    list_of_instock = find_in_stock(products,rtn=\"\")\n",
    "    list_of_discount_ammount = []\n",
    "    for product in list_of_instock:\n",
    "        discount_amount = product[\"price\"] * product[\"discount\"]\n",
    "        final_amount = product[\"price\"] - discount_amount\n",
    "        list_of_discount_ammount.append((product[\"name\"],final_amount))\n",
    "    return list_of_discount_ammount\n",
    "\n",
    "\n",
    "\n",
    "print(f\"Discounted prices: {apply_discount(products)}\")"
   ]
  },
  {
   "cell_type": "code",
   "execution_count": null,
   "id": "b2d6375f",
   "metadata": {},
   "outputs": [],
   "source": []
  }
 ],
 "metadata": {
  "kernelspec": {
   "display_name": "3.12.0",
   "language": "python",
   "name": "python3"
  },
  "language_info": {
   "codemirror_mode": {
    "name": "ipython",
    "version": 3
   },
   "file_extension": ".py",
   "mimetype": "text/x-python",
   "name": "python",
   "nbconvert_exporter": "python",
   "pygments_lexer": "ipython3",
   "version": "3.12.0"
  }
 },
 "nbformat": 4,
 "nbformat_minor": 5
}
