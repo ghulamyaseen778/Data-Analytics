{
 "cells": [
  {
   "cell_type": "markdown",
   "metadata": {},
   "source": [
    "Q1. my_tuple = ( (1, 2, 3), [4, 5, 6], (&#39;apple&#39;, &#39;banana&#39;, &#39;cherry&#39;), [7, 8, 9] )\n",
    "• Print all elements from my_tuple on a new line (using for loop)\n",
    "• Create a new tuple by concatenating the first and last elements of my_tuple"
   ]
  },
  {
   "cell_type": "code",
   "execution_count": 4,
   "metadata": {},
   "outputs": [
    {
     "name": "stdout",
     "output_type": "stream",
     "text": [
      "(1, 2, 3)\n",
      "[4, 5, 6]\n",
      "('apple', 'banana', 'cherry')\n",
      "[7, 8, 9]\n",
      "New Tuple: (1, 2, 3, 7, 8, 9)\n"
     ]
    }
   ],
   "source": [
    "my_tuple = ( (1, 2, 3), [4, 5, 6], ('apple', 'banana', 'cherry'), [7, 8, 9] )\n",
    "\n",
    "for element in my_tuple:\n",
    "    print(element)\n",
    "\n",
    "new_tuple = my_tuple[0] + tuple(my_tuple[-1])\n",
    "print(f\"New Tuple: {new_tuple}\")"
   ]
  },
  {
   "cell_type": "markdown",
   "metadata": {},
   "source": [
    "Q2. inventory = { &quot;The Great Gatsby&quot;: {&quot;price&quot;: 10.99, &quot;quantity&quot;: 5}, &quot;Rich dad poor dad&quot;: {&quot;price&quot;:\n",
    "8.99, &quot;quantity&quot;: 8}, &quot;Harry Potter&quot;: {&quot;price&quot;: 12.50, &quot;quantity&quot;: 2}, }\n",
    "• Add a new book in inventory using method and get all book titles using method\n",
    "• Remove a book if it&#39;s out of stock"
   ]
  },
  {
   "cell_type": "code",
   "execution_count": 10,
   "metadata": {},
   "outputs": [
    {
     "name": "stdout",
     "output_type": "stream",
     "text": [
      "Updated Inventory: {'The Great Gatsby': {'price': 10.99, 'quantity': 5}, 'Rich dad poor dad': {'price': 8.99, 'quantity': 8}, 'Harry Potter': {'price': 12.5, 'quantity': 2}, 'new Book': {'price': 9.99, 'quantity': 3}}\n",
      "Book Titles: ['The Great Gatsby', 'Rich dad poor dad', 'Harry Potter', 'new Book']\n",
      "Remove Out of stock {'The Great Gatsby': {'price': 10.99, 'quantity': 5}, 'Rich dad poor dad': {'price': 8.99, 'quantity': 8}, 'Harry Potter': {'price': 12.5, 'quantity': 2}, 'new Book': {'price': 9.99, 'quantity': 3}}\n"
     ]
    }
   ],
   "source": [
    "inventory = {\n",
    "    \"The Great Gatsby\": {\"price\": 10.99, \"quantity\": 5},\n",
    "    \"Rich dad poor dad\": {\"price\": 8.99, \"quantity\": 8},\n",
    "    \"Harry Potter\": {\"price\": 12.50, \"quantity\": 2},\n",
    "}\n",
    "\n",
    "inventory.update({\n",
    "    \"new Book\": {\"price\": 9.99, \"quantity\": 3}\n",
    "})\n",
    "print(f\"Updated Inventory: {inventory}\")\n",
    "\n",
    "book_titles = list(inventory.keys())\n",
    "print(\"Book Titles:\", book_titles)\n",
    "\n",
    "for book in list(inventory.keys()):\n",
    "    if inventory[book][\"quantity\"] == 0:\n",
    "        del inventory[book]\n",
    "\n",
    "print(f\"Remove out of stock {inventory}\")"
   ]
  },
  {
   "cell_type": "code",
   "execution_count": null,
   "metadata": {},
   "outputs": [],
   "source": []
  },
  {
   "cell_type": "code",
   "execution_count": null,
   "metadata": {},
   "outputs": [],
   "source": []
  }
 ],
 "metadata": {
  "kernelspec": {
   "display_name": "3.12.0",
   "language": "python",
   "name": "python3"
  },
  "language_info": {
   "codemirror_mode": {
    "name": "ipython",
    "version": 3
   },
   "file_extension": ".py",
   "mimetype": "text/x-python",
   "name": "python",
   "nbconvert_exporter": "python",
   "pygments_lexer": "ipython3",
   "version": "3.12.0"
  }
 },
 "nbformat": 4,
 "nbformat_minor": 2
}
