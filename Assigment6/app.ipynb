{
 "cells": [
  {
   "cell_type": "markdown",
   "metadata": {},
   "source": [
    "Question 1:\n",
    "In a transportation system, we have two classes:\n",
    " ElectricVehicle: A class that has a method charge() to charge the vehicle.\n",
    " GasolineVehicle: A class that has a method fuel_up() to refuel the vehicle.\n",
    "Create a class HybridCar that inherits from both ElectricVehicle and GasolineVehicle. The HybridCar\n",
    "class should have a method drive() that prints a message showing the car is being driven. Instantiate\n",
    "an object of class HybridCar and demonstrate the usage of charge(), fuel_up(), and drive().\n",
    "Expected Output:\n",
    " Charging the electric vehicle.\n",
    " Filling up the gasoline tank.\n",
    " Driving the hybrid car.\n"
   ]
  },
  {
   "cell_type": "code",
   "execution_count": 1,
   "metadata": {},
   "outputs": [
    {
     "name": "stdout",
     "output_type": "stream",
     "text": [
      "Charging the electric vehicle.\n",
      "Filling up the gasoline tank.\n",
      "Driving the hybrid car.\n"
     ]
    }
   ],
   "source": [
    "class ElectricVehicle:\n",
    "    def charge(self):\n",
    "        print(\"Charging the electric vehicle.\")\n",
    "\n",
    "\n",
    "class GasolineVehicle:\n",
    "    def fuel_up(self):\n",
    "        print(\"Filling up the gasoline tank.\")\n",
    "\n",
    "\n",
    "class HybridCar(ElectricVehicle, GasolineVehicle):\n",
    "    def drive(self):\n",
    "        print(\"Driving the hybrid car.\")\n",
    "\n",
    "\n",
    "hybrid_car = HybridCar()\n",
    "\n",
    "hybrid_car.charge()\n",
    "hybrid_car.fuel_up()\n",
    "hybrid_car.drive()"
   ]
  },
  {
   "cell_type": "markdown",
   "metadata": {},
   "source": [
    "Question 2:\n",
    "Create a class Animal with a method make_sound(), which prints &quot;Animal makes a sound&quot;. Then,\n",
    "create two subclasses:\n",
    " Lion: Override the make_sound() method to print &quot;Roar&quot;.\n",
    " Cat: Override the make_sound() method to print &quot;Meow&quot;.\n",
    "Demonstrate polymorphism by calling make_sound() on instances of Lion and Cat."
   ]
  },
  {
   "cell_type": "code",
   "execution_count": 6,
   "metadata": {},
   "outputs": [
    {
     "name": "stdout",
     "output_type": "stream",
     "text": [
      "Animal makes a sound\n",
      "Roar\n",
      "Meow\n"
     ]
    }
   ],
   "source": [
    "class Animal:\n",
    "    def make_sound(self):\n",
    "        print(\"Animal makes a sound\")\n",
    "\n",
    "\n",
    "class Lion(Animal):\n",
    "    def make_sound(self):\n",
    "        print(\"Roar\")\n",
    "\n",
    "\n",
    "class Cat(Animal):\n",
    "    def make_sound(self):\n",
    "        print(\"Meow\")\n",
    "\n",
    "animalObj = Animal()\n",
    "lionObj = Lion()\n",
    "catObj = Cat()\n",
    "animalObj.make_sound()\n",
    "lionObj.make_sound()\n",
    "catObj.make_sound()\n"
   ]
  },
  {
   "cell_type": "markdown",
   "metadata": {},
   "source": [
    "Question 3:\n",
    "Create an abstract class SmartHomeDevice with two abstract methods:\n",
    " turn_on() (to turn the device on)\n",
    " turn_off() (to turn the device off)\n",
    "Then, create a Light class that inherits from SmartHomeDevice. Implement the methods turn_on()\n",
    "and turn_off() for a light device. The turn_on() method should print &quot;Light is ON&quot;, and the turn_off()\n",
    "method should print &quot;Light is OFF&quot;.\n",
    "Write a Python program to control the light device in a smart home.\n",
    "Expected Output:\n",
    " Turning on the light...\n",
    " Light is ON\n",
    " Turning off the light...\n",
    " Light is OFF"
   ]
  },
  {
   "cell_type": "code",
   "execution_count": 10,
   "metadata": {},
   "outputs": [
    {
     "name": "stdout",
     "output_type": "stream",
     "text": [
      "Turning on the light...\n",
      "Light is ON\n",
      "Turning off the light...\n",
      "Light is OFF\n"
     ]
    }
   ],
   "source": [
    "class Light():\n",
    "    def turn_on(self):\n",
    "        print(\"Turning on the light...\")\n",
    "        print(\"Light is ON\")\n",
    "\n",
    "    def turn_off(self):\n",
    "        print(\"Turning off the light...\")\n",
    "        print(\"Light is OFF\")\n",
    "\n",
    "light = Light()\n",
    "light.turn_on()\n",
    "light.turn_off()"
   ]
  },
  {
   "cell_type": "markdown",
   "metadata": {},
   "source": [
    "Question 4:\n",
    "Create a class Greeting with a method greet() that can handle different numbers of arguments.\n",
    " If no argument is passed, it should print &quot;Hello!&quot;.\n",
    " If one argument (a name) is passed, it should print &quot;Hello, !&quot;.\n",
    " If two arguments (a name and a greeting) are passed, it should print the greeting with the\n",
    "name (e.g., &quot;Good morning, !&quot;).\n",
    "Simulate method overloading using default arguments or variable-length arguments, and\n",
    "demonstrate the polymorphic behavior by calling greet() with different numbers of arguments.\n",
    "Expected Output:\n",
    " Hello!\n",
    " Hello, John!\n",
    " Good morning, John!"
   ]
  },
  {
   "cell_type": "code",
   "execution_count": null,
   "metadata": {},
   "outputs": [],
   "source": [
    "class Greeting:\n",
    "    def greet(self, name=None, greeting=\"Hello\"):\n",
    "        if name is None:\n",
    "            print(\"Hello!\")\n",
    "        else:\n",
    "            print(f\"{greeting}, {name}!\")\n",
    "\n",
    "\n",
    "\n",
    "g = Greeting()\n",
    "\n",
    "g.greet()\n",
    "\n",
    "g.greet(\"John\")\n",
    "\n",
    "g.greet(\"John\", \"Good morning\")"
   ]
  },
  {
   "cell_type": "markdown",
   "metadata": {},
   "source": [
    "Question 5:\n",
    "Create a class CarRental to manage the rental of cars.\n",
    " The class should have private attributes for the car&#39;s name, price per day, and the number of\n",
    "rental days.\n",
    " Create a method to calculate the total rental cost and a method to set the rental days.\n",
    " Use getter and setter methods for modifying and accessing the car&#39;s information.\n",
    "Demonstrate encapsulation by creating an object of CarRental and calculating the total rental cost.\n",
    "Expected Output:\n",
    " Car Name: Toyota Camry\n",
    " Price Per Day: $50\n",
    " Rental Days: 5\n",
    " Total Rental Cost: $250"
   ]
  },
  {
   "cell_type": "code",
   "execution_count": 11,
   "metadata": {},
   "outputs": [
    {
     "name": "stdout",
     "output_type": "stream",
     "text": [
      "Car Name: Toyota Camry\n",
      "Price Per Day: $50\n",
      "Rental Days: 5\n",
      "Total Rental Cost: $250\n"
     ]
    }
   ],
   "source": [
    "class CarRental:\n",
    "    def __init__(self, name, price_per_day):\n",
    "        self.__name = name\n",
    "        self.__price_per_day = price_per_day\n",
    "        self.__rental_days = 0\n",
    "\n",
    "    def get_name(self):\n",
    "        return self.__name\n",
    "\n",
    "    def set_name(self, name):\n",
    "        self.__name = name\n",
    "\n",
    "    def get_price_per_day(self):\n",
    "        return self.__price_per_day\n",
    "\n",
    "    def set_price_per_day(self, price_per_day):\n",
    "        self.__price_per_day = price_per_day\n",
    "\n",
    "    def get_rental_days(self):\n",
    "        return self.__rental_days\n",
    "\n",
    "    def set_rental_days(self, rental_days):\n",
    "        self.__rental_days = rental_days\n",
    "\n",
    "    def calculate_total_cost(self):\n",
    "        return self.__price_per_day * self.__rental_days\n",
    "\n",
    "\n",
    "car = CarRental(\"Toyota Camry\", 50) \n",
    "car.set_rental_days(5) \n",
    "\n",
    "print(f\"Car Name: {car.get_name()}\")\n",
    "print(f\"Price Per Day: ${car.get_price_per_day()}\")\n",
    "print(f\"Rental Days: {car.get_rental_days()}\")\n",
    "print(f\"Total Rental Cost: ${car.calculate_total_cost()}\")\n"
   ]
  },
  {
   "cell_type": "code",
   "execution_count": null,
   "metadata": {},
   "outputs": [],
   "source": []
  }
 ],
 "metadata": {
  "kernelspec": {
   "display_name": "3.12.0",
   "language": "python",
   "name": "python3"
  },
  "language_info": {
   "codemirror_mode": {
    "name": "ipython",
    "version": 3
   },
   "file_extension": ".py",
   "mimetype": "text/x-python",
   "name": "python",
   "nbconvert_exporter": "python",
   "pygments_lexer": "ipython3",
   "version": "3.12.0"
  }
 },
 "nbformat": 4,
 "nbformat_minor": 2
}
