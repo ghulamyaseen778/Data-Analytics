{
 "cells": [
  {
   "cell_type": "code",
   "execution_count": 8,
   "metadata": {},
   "outputs": [
    {
     "name": "stdout",
     "output_type": "stream",
     "text": [
      "Adult\n"
     ]
    }
   ],
   "source": [
    "# Question 1: Age Group Classification\n",
    "\n",
    "age = int(input(\"Enter Your Age: \").replace(\" \",\"\"))\n",
    "\n",
    "if age >= 1 and age <= 12:\n",
    "    print(\"Child\") \n",
    "elif age >=13 and age<=19:\n",
    "    print(\"Teenager\") \n",
    "elif age >=20 and age <=64:\n",
    "    print(\"Adult\")\n",
    "else:\n",
    "    print(\"Senior\")"
   ]
  },
  {
   "cell_type": "code",
   "execution_count": null,
   "metadata": {},
   "outputs": [
    {
     "name": "stdout",
     "output_type": "stream",
     "text": [
      "Eligible for discount\n"
     ]
    }
   ],
   "source": [
    "# Question 2: Checking for Eligibility for Discount\n",
    "\n",
    "membership = input(\"Enter Memebership: \").replace(\" \",\"\")\n",
    "PurchaseAmmout = int(input(\"Enter Ammount: \").replace(\" \",\"\"))\n",
    "\n",
    "if (membership == \"permium\" and PurchaseAmmout >= 1000) or (membership == \"regular\" and PurchaseAmmout >= 2000) : \n",
    "    print(\"Eligible for discount\")\n",
    "else :\n",
    "    print(\"Not eligible for discount\")"
   ]
  },
  {
   "cell_type": "code",
   "execution_count": 11,
   "metadata": {},
   "outputs": [
    {
     "name": "stdout",
     "output_type": "stream",
     "text": [
      "Eligible to vote\n"
     ]
    }
   ],
   "source": [
    "# Question 3: Voting Eligibility Check\n",
    "\n",
    "age = int(input(\"Enter your age: \").replace(\" \",\"\"))\n",
    "status = input(\"Enter citizenship status is yes/no: \").lower().replace(\" \",\"\")\n",
    "\n",
    "if status == \"yes\":\n",
    "    status=\"citizen\"\n",
    "elif status == \"no\":\n",
    "    status =\"non-citizen\"\n",
    "else :\n",
    "    print(\"Enter correct response:\")\n",
    "\n",
    "if age >= 18 and status == \"citizen\":\n",
    "    print(\"Eligible to vote\")\n",
    "else: \n",
    "    print(\"Not eligible to vote\")"
   ]
  },
  {
   "cell_type": "code",
   "execution_count": 12,
   "metadata": {},
   "outputs": [
    {
     "name": "stdout",
     "output_type": "stream",
     "text": [
      "Eligible for bonus\n"
     ]
    }
   ],
   "source": [
    "# Question 4: Employee Salary Bonus Eligibility\n",
    "\n",
    "employRating = input(\"Enter your rating: \").replace(\" \",\"\").lower()\n",
    "exprience = int(input(\"Enter your exprience: \").replace(\" \",\"\"))\n",
    "\n",
    "if (employRating ==\"excellent\" and exprience >= 5) or (employRating ==\"good\" and exprience >= 10) or (employRating ==\"satisfactory\" and exprience >= 15) :\n",
    "    print(\"Eligible for bonus\")\n",
    "else:\n",
    "    print(\"Not eligible for bonus\")"
   ]
  },
  {
   "cell_type": "code",
   "execution_count": 13,
   "metadata": {},
   "outputs": [
    {
     "name": "stdout",
     "output_type": "stream",
     "text": [
      "replace with underscore: I'm_learning_Python_programming?\n",
      "Count of text: 3\n",
      "Count of text: 3\n"
     ]
    }
   ],
   "source": [
    "# Question 5. Write a program that replaces spaces with underscores, counts how many underscores are\n",
    "# there, and finds the position of the first underscore.\n",
    "# Use text:I'm learning Python programming?\n",
    "\n",
    "text = \"I'm learning Python programming?\"\n",
    "\n",
    "text = text.replace(\" \",\"_\")\n",
    "print(\"replace with underscore:\",text)\n",
    "print(\"Count of text:\",text.count(\"_\"))\n",
    "print(\"Count of text:\",text.find(\"_\"))\n"
   ]
  },
  {
   "cell_type": "code",
   "execution_count": 2,
   "metadata": {},
   "outputs": [
    {
     "name": "stdout",
     "output_type": "stream",
     "text": [
      "except last 3 characters: hello i am ghu\n",
      "Every second character of the string: hloia hlm\n",
      "String in reverse: maluhg ma i olleh\n"
     ]
    }
   ],
   "source": [
    "# Question 6:\n",
    "# Write a Python program that:\n",
    "text = input(\"Enter Your Text\")\n",
    "\n",
    "print(\"except last 3 characters:\", text[:-3])\n",
    "\n",
    "print(\"Every second character of the string:\", text[::2])\n",
    "\n",
    "print(\"String in reverse:\", text[::-1])"
   ]
  },
  {
   "cell_type": "code",
   "execution_count": 6,
   "metadata": {},
   "outputs": [
    {
     "name": "stdout",
     "output_type": "stream",
     "text": [
      "Python learning are We World, Hello\n"
     ]
    }
   ],
   "source": [
    "# Question 7. Given a sentence, you need to reverse the order of the words in the sentence while\n",
    "# preserving their original capitalization and spaces.\n",
    "# Use text : Hello World, We are learning Python\n",
    "\n",
    "text = \"Hello World, We are learning Python\"\n",
    "\n",
    "text = text.split(\" \")\n",
    "text = text[::-1]\n",
    "text = \" \".join(text)\n",
    "\n",
    "print(text)\n"
   ]
  },
  {
   "cell_type": "code",
   "execution_count": 13,
   "metadata": {},
   "outputs": [
    {
     "name": "stdout",
     "output_type": "stream",
     "text": [
      "This is product code: 12345\n"
     ]
    }
   ],
   "source": [
    "# Question 8. You have a product code that follows the format SKU-12345-XYZ. You need to:\n",
    "# Remove the SKU- and the -XYZ from the product code. Extract and return the number\n",
    "\n",
    "productCode = \"SKU-12345-XYZ\"\n",
    "\n",
    "productCode = productCode.removeprefix(\"SKU-\")\n",
    "productCode = productCode.removesuffix(\"-XYZ\")\n",
    "\n",
    "print(\"This is product number:\", productCode)"
   ]
  },
  {
   "cell_type": "code",
   "execution_count": 28,
   "metadata": {},
   "outputs": [
    {
     "name": "stdout",
     "output_type": "stream",
     "text": [
      "Contains uppercase characters: True\n",
      "Contains lowercase characters: True\n",
      "Contains spaces: False\n",
      "Contains special characters: False\n"
     ]
    }
   ],
   "source": [
    "# Question 9. Write a Python program to check user password has following:\n",
    "# Whether the string contains any uppercase characters. Whether the string contains any lowercase\n",
    "# characters. Whether the string contains any spaces. Whether the string contains any special\n",
    "# characters (anything other than letters, digits, and spaces).\n",
    "\n",
    "userPassword = input(\"Enter Your Password: \")\n",
    "\n",
    "has_uppercase = any(char.isupper() for char in userPassword)\n",
    "\n",
    "has_lowercase = any(char.islower() for char in userPassword)\n",
    "\n",
    "has_spaces = any(char.isspace() for char in userPassword)\n",
    "\n",
    "has_special_characters = any(not char.isalnum() and not char.isspace() for char in userPassword)\n",
    "\n",
    "print(\"Contains uppercase characters:\", has_uppercase)\n",
    "print(\"Contains lowercase characters:\", has_lowercase)\n",
    "print(\"Contains spaces:\", has_spaces)\n",
    "print(\"Contains special characters:\", has_special_characters)\n",
    "\n",
    "\n",
    "\n",
    "\n"
   ]
  },
  {
   "cell_type": "code",
   "execution_count": null,
   "metadata": {},
   "outputs": [],
   "source": [
    "# Question 10: Find the Longest Word\n",
    "\n",
    "sentence = input(\"Enter a sentence: \")\n",
    "\n",
    "\n",
    "words = sentence.split()\n",
    "\n",
    "\n",
    "longest_word = max(words, key=len)\n",
    "\n",
    "\n",
    "print(\"The longest word is:\", longest_word)"
   ]
  }
 ],
 "metadata": {
  "kernelspec": {
   "display_name": "3.12.0",
   "language": "python",
   "name": "python3"
  },
  "language_info": {
   "codemirror_mode": {
    "name": "ipython",
    "version": 3
   },
   "file_extension": ".py",
   "mimetype": "text/x-python",
   "name": "python",
   "nbconvert_exporter": "python",
   "pygments_lexer": "ipython3",
   "version": "3.12.0"
  }
 },
 "nbformat": 4,
 "nbformat_minor": 2
}
